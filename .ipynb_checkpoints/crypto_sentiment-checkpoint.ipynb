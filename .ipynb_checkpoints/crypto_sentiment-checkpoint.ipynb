{
 "cells": [
  {
   "cell_type": "markdown",
   "metadata": {},
   "source": [
    "# Unit 12 - Tales from the Crypto\n",
    "\n",
    "---\n"
   ]
  },
  {
   "cell_type": "markdown",
   "metadata": {},
   "source": [
    "## 1. Sentiment Analysis\n",
    "\n",
    "Use the news api to pull the latest news articles for bitcoin and ethereum and create a DataFrame of sentiment scores for each coin. \n",
    "\n",
    "Use descriptive statistics to answer the following questions:\n",
    "1. Which coin had the highest mean positive score?\n",
    "2. Which coin had the highest negative score?\n",
    "3. Which coin had the highest positive score?"
   ]
  },
  {
   "cell_type": "code",
   "execution_count": 59,
   "metadata": {},
   "outputs": [
    {
     "name": "stderr",
     "output_type": "stream",
     "text": [
      "[nltk_data] Downloading package vader_lexicon to\n",
      "[nltk_data]     C:\\Users\\eliza\\AppData\\Roaming\\nltk_data...\n",
      "[nltk_data]   Package vader_lexicon is already up-to-date!\n"
     ]
    }
   ],
   "source": [
    "# Initial imports\n",
    "import os\n",
    "from pathlib import Path\n",
    "import pandas as pd\n",
    "from dotenv import load_dotenv\n",
    "import nltk as nltk\n",
    "nltk.download('vader_lexicon')\n",
    "from nltk.sentiment.vader import SentimentIntensityAnalyzer\n",
    "analyzer = SentimentIntensityAnalyzer()\n",
    "from newsapi import NewsApiClient\n",
    "\n",
    "%matplotlib inline"
   ]
  },
  {
   "cell_type": "code",
   "execution_count": 60,
   "metadata": {},
   "outputs": [],
   "source": [
    "# Read your api key environment variable\n",
    "\n",
    "load_dotenv(\"example.env\")\n",
    "api_key = os.getenv(\"NEWS_API_KEY\")\n",
    "\n",
    "\n"
   ]
  },
  {
   "cell_type": "code",
   "execution_count": 61,
   "metadata": {},
   "outputs": [],
   "source": [
    "# Create a newsapi client\n",
    "\n",
    "newsapi = NewsApiClient(api_key=api_key)"
   ]
  },
  {
   "cell_type": "code",
   "execution_count": 62,
   "metadata": {},
   "outputs": [],
   "source": [
    "# Fetch the Bitcoin news articles\n",
    "\n",
    "# #bitcoin_news = newsapi.get_everything(q='bitcoin',\n",
    "#                                       language='en',\n",
    "#                                       sort_by='publishedAt',\n",
    "#                                       page=2) \n",
    "\n",
    "# #print (bitcoin_news[\"totalResults\"])\n"
   ]
  },
  {
   "cell_type": "code",
   "execution_count": null,
   "metadata": {},
   "outputs": [],
   "source": [
    "#print the # of results\n",
    "print(f\"The total number of results is:{bitcoin_news['totalResults']}\")"
   ]
  },
  {
   "cell_type": "code",
   "execution_count": 63,
   "metadata": {},
   "outputs": [],
   "source": [
    "#Save the results as a json file\n",
    "\n",
    "import json \n",
    "\n",
    "#convert the results to a string using json dumps()\n",
    "#result = json.dumps(bitcoin_news, indent=6)\n",
    "\n",
    "#Save \"result\" to a json file\n",
    "\n",
    "# file2write=open(\"bitcoin_news.json\",'w')\n",
    "# file2write.write(result)\n",
    "# file2write.close()\n",
    "\n",
    "#print(result)"
   ]
  },
  {
   "cell_type": "code",
   "execution_count": 65,
   "metadata": {},
   "outputs": [],
   "source": [
    "#Open json file\n",
    "import json \n",
    "# Opening JSON file \n",
    "f = open('bitcoin_news.json',) \n",
    "  \n",
    "# returns JSON object as  \n",
    "# a dictionary \n",
    "bitcoin_data = json.load(f) \n",
    "  \n",
    "# Iterating through the json \n",
    "# list \n",
    "for i in bitcoin_data: \n",
    "    #print(i) \n",
    "  \n",
    "# Closing file \n",
    "    f.close() \n",
    "\n",
    "#print (bitcoin_data)"
   ]
  },
  {
   "cell_type": "code",
   "execution_count": 14,
   "metadata": {},
   "outputs": [],
   "source": [
    "# # Fetch the Ethereum news articles\n",
    "\n",
    "# ethereum_news =  newsapi.get_everything(q='ethereum',\n",
    "#                                       language='en',\n",
    "#                                       sort_by='publishedAt',\n",
    "#                                       page=2) "
   ]
  },
  {
   "cell_type": "code",
   "execution_count": 72,
   "metadata": {},
   "outputs": [],
   "source": [
    "# #Save the results as a json file\n",
    "\n",
    "\n",
    "# #convert the results to a string using json dumps()\n",
    "# result2 = json.dumps(ethereum_news, indent=6)\n",
    "\n",
    "# #Save \"result\" to a json file\n",
    "\n",
    "# file2write=open(\"ethereum_news.json\",'w')\n",
    "# file2write.write(result2)\n",
    "\n",
    "# file2write.close()\n",
    "\n",
    "# #print(result2)"
   ]
  },
  {
   "cell_type": "code",
   "execution_count": 73,
   "metadata": {},
   "outputs": [],
   "source": [
    "# Opening JSON file \n",
    "\n",
    "f = open('ethereum_news.json',) \n",
    "  \n",
    "# returns JSON object as  \n",
    "# a dictionary \n",
    "ethereum_data = json.load(f) \n",
    "  \n",
    "# Iterating through the json \n",
    "# list \n",
    "for i in ethereum_data: \n",
    "    #print(i) \n",
    "  \n",
    "# Closing file \n",
    "    f.close() \n",
    "\n",
    "#print (ethereum_data)"
   ]
  },
  {
   "cell_type": "code",
   "execution_count": 74,
   "metadata": {},
   "outputs": [
    {
     "data": {
      "text/html": [
       "<div>\n",
       "<style scoped>\n",
       "    .dataframe tbody tr th:only-of-type {\n",
       "        vertical-align: middle;\n",
       "    }\n",
       "\n",
       "    .dataframe tbody tr th {\n",
       "        vertical-align: top;\n",
       "    }\n",
       "\n",
       "    .dataframe thead th {\n",
       "        text-align: right;\n",
       "    }\n",
       "</style>\n",
       "<table border=\"1\" class=\"dataframe\">\n",
       "  <thead>\n",
       "    <tr style=\"text-align: right;\">\n",
       "      <th></th>\n",
       "      <th>date</th>\n",
       "      <th>text</th>\n",
       "      <th>compound</th>\n",
       "      <th>positive</th>\n",
       "      <th>negative</th>\n",
       "      <th>neutral</th>\n",
       "    </tr>\n",
       "  </thead>\n",
       "  <tbody>\n",
       "    <tr>\n",
       "      <th>15</th>\n",
       "      <td>2020-09-02</td>\n",
       "      <td>Following an earlier endeavor selling Bitcoin ...</td>\n",
       "      <td>0.3612</td>\n",
       "      <td>0.070</td>\n",
       "      <td>0.000</td>\n",
       "      <td>0.930</td>\n",
       "    </tr>\n",
       "    <tr>\n",
       "      <th>16</th>\n",
       "      <td>2020-09-02</td>\n",
       "      <td>Note: All information on this page is subject ...</td>\n",
       "      <td>0.8402</td>\n",
       "      <td>0.250</td>\n",
       "      <td>0.000</td>\n",
       "      <td>0.750</td>\n",
       "    </tr>\n",
       "    <tr>\n",
       "      <th>17</th>\n",
       "      <td>2020-09-02</td>\n",
       "      <td>Bitcoin Core developer Pieter Wuille has migra...</td>\n",
       "      <td>0.0000</td>\n",
       "      <td>0.000</td>\n",
       "      <td>0.000</td>\n",
       "      <td>1.000</td>\n",
       "    </tr>\n",
       "    <tr>\n",
       "      <th>18</th>\n",
       "      <td>2020-09-02</td>\n",
       "      <td>Click to download audio version\\r\\n\"As we conc...</td>\n",
       "      <td>0.0000</td>\n",
       "      <td>0.000</td>\n",
       "      <td>0.000</td>\n",
       "      <td>1.000</td>\n",
       "    </tr>\n",
       "    <tr>\n",
       "      <th>19</th>\n",
       "      <td>2020-09-02</td>\n",
       "      <td>Band Protocol was an early winner in the DeFi ...</td>\n",
       "      <td>0.6808</td>\n",
       "      <td>0.164</td>\n",
       "      <td>0.042</td>\n",
       "      <td>0.794</td>\n",
       "    </tr>\n",
       "  </tbody>\n",
       "</table>\n",
       "</div>"
      ],
      "text/plain": [
       "          date                                               text  compound  \\\n",
       "15  2020-09-02  Following an earlier endeavor selling Bitcoin ...    0.3612   \n",
       "16  2020-09-02  Note: All information on this page is subject ...    0.8402   \n",
       "17  2020-09-02  Bitcoin Core developer Pieter Wuille has migra...    0.0000   \n",
       "18  2020-09-02  Click to download audio version\\r\\n\"As we conc...    0.0000   \n",
       "19  2020-09-02  Band Protocol was an early winner in the DeFi ...    0.6808   \n",
       "\n",
       "    positive  negative  neutral  \n",
       "15     0.070     0.000    0.930  \n",
       "16     0.250     0.000    0.750  \n",
       "17     0.000     0.000    1.000  \n",
       "18     0.000     0.000    1.000  \n",
       "19     0.164     0.042    0.794  "
      ]
     },
     "execution_count": 74,
     "metadata": {},
     "output_type": "execute_result"
    }
   ],
   "source": [
    "# Create the Bitcoin sentiment scores DataFrame\n",
    "\n",
    "bitcoin_sentiments = []\n",
    "\n",
    "for article in bitcoin_data [\"articles\"]:\n",
    "    try:\n",
    "        text = article[\"content\"]\n",
    "        date = article[\"publishedAt\"][:10]\n",
    "        sentiment = analyzer.polarity_scores(text)\n",
    "        compound = sentiment[\"compound\"]\n",
    "        pos = sentiment[\"pos\"]\n",
    "        neu = sentiment[\"neu\"]\n",
    "        neg = sentiment[\"neg\"]\n",
    "        \n",
    "        bitcoin_sentiments.append({\n",
    "            \"text\": text,\n",
    "            \"date\": date,\n",
    "            \"compound\": compound,\n",
    "            \"positive\": pos,\n",
    "            \"negative\": neg,\n",
    "            \"neutral\": neu\n",
    "            \n",
    "        })\n",
    "        \n",
    "    except AttributeError:\n",
    "        pass\n",
    "    \n",
    "# Create DataFrame\n",
    "bitcoin_df = pd.DataFrame(bitcoin_sentiments)\n",
    "\n",
    "# Reorder DataFrame columns\n",
    "cols = [\"date\", \"text\", \"compound\", \"positive\", \"negative\", \"neutral\"]\n",
    "bitcoin_df =bitcoin_df[cols]\n",
    "\n",
    "bitcoin_df.tail()\n"
   ]
  },
  {
   "cell_type": "code",
   "execution_count": 75,
   "metadata": {},
   "outputs": [],
   "source": [
    "#Save dataframe as csv file\n",
    "file_path = Path(\"Data\\bitcoin.csv\")\n",
    "bitcoin_df.to_csv( \"bitcoin.csv\", index = False)"
   ]
  },
  {
   "cell_type": "code",
   "execution_count": 76,
   "metadata": {},
   "outputs": [
    {
     "data": {
      "text/html": [
       "<div>\n",
       "<style scoped>\n",
       "    .dataframe tbody tr th:only-of-type {\n",
       "        vertical-align: middle;\n",
       "    }\n",
       "\n",
       "    .dataframe tbody tr th {\n",
       "        vertical-align: top;\n",
       "    }\n",
       "\n",
       "    .dataframe thead th {\n",
       "        text-align: right;\n",
       "    }\n",
       "</style>\n",
       "<table border=\"1\" class=\"dataframe\">\n",
       "  <thead>\n",
       "    <tr style=\"text-align: right;\">\n",
       "      <th></th>\n",
       "      <th>date</th>\n",
       "      <th>text</th>\n",
       "      <th>compound</th>\n",
       "      <th>positive</th>\n",
       "      <th>negative</th>\n",
       "      <th>neutral</th>\n",
       "    </tr>\n",
       "  </thead>\n",
       "  <tbody>\n",
       "    <tr>\n",
       "      <th>15</th>\n",
       "      <td>2020-09-02</td>\n",
       "      <td>Following an earlier endeavor selling Bitcoin ...</td>\n",
       "      <td>0.3612</td>\n",
       "      <td>0.070</td>\n",
       "      <td>0.000</td>\n",
       "      <td>0.930</td>\n",
       "    </tr>\n",
       "    <tr>\n",
       "      <th>16</th>\n",
       "      <td>2020-09-02</td>\n",
       "      <td>Note: All information on this page is subject ...</td>\n",
       "      <td>0.8402</td>\n",
       "      <td>0.250</td>\n",
       "      <td>0.000</td>\n",
       "      <td>0.750</td>\n",
       "    </tr>\n",
       "    <tr>\n",
       "      <th>17</th>\n",
       "      <td>2020-09-02</td>\n",
       "      <td>Bitcoin Core developer Pieter Wuille has migra...</td>\n",
       "      <td>0.0000</td>\n",
       "      <td>0.000</td>\n",
       "      <td>0.000</td>\n",
       "      <td>1.000</td>\n",
       "    </tr>\n",
       "    <tr>\n",
       "      <th>18</th>\n",
       "      <td>2020-09-02</td>\n",
       "      <td>Click to download audio version\\r\\n\"As we conc...</td>\n",
       "      <td>0.0000</td>\n",
       "      <td>0.000</td>\n",
       "      <td>0.000</td>\n",
       "      <td>1.000</td>\n",
       "    </tr>\n",
       "    <tr>\n",
       "      <th>19</th>\n",
       "      <td>2020-09-02</td>\n",
       "      <td>Band Protocol was an early winner in the DeFi ...</td>\n",
       "      <td>0.6808</td>\n",
       "      <td>0.164</td>\n",
       "      <td>0.042</td>\n",
       "      <td>0.794</td>\n",
       "    </tr>\n",
       "  </tbody>\n",
       "</table>\n",
       "</div>"
      ],
      "text/plain": [
       "          date                                               text  compound  \\\n",
       "15  2020-09-02  Following an earlier endeavor selling Bitcoin ...    0.3612   \n",
       "16  2020-09-02  Note: All information on this page is subject ...    0.8402   \n",
       "17  2020-09-02  Bitcoin Core developer Pieter Wuille has migra...    0.0000   \n",
       "18  2020-09-02  Click to download audio version\\r\\n\"As we conc...    0.0000   \n",
       "19  2020-09-02  Band Protocol was an early winner in the DeFi ...    0.6808   \n",
       "\n",
       "    positive  negative  neutral  \n",
       "15     0.070     0.000    0.930  \n",
       "16     0.250     0.000    0.750  \n",
       "17     0.000     0.000    1.000  \n",
       "18     0.000     0.000    1.000  \n",
       "19     0.164     0.042    0.794  "
      ]
     },
     "execution_count": 76,
     "metadata": {},
     "output_type": "execute_result"
    }
   ],
   "source": [
    "#Read data from CSV file\n",
    "file_path = Path(\"bitcoin.csv\")\n",
    "bitcoin_df= pd.read_csv(file_path)\n",
    "bitcoin_df.tail()"
   ]
  },
  {
   "cell_type": "code",
   "execution_count": 77,
   "metadata": {},
   "outputs": [
    {
     "data": {
      "text/html": [
       "<div>\n",
       "<style scoped>\n",
       "    .dataframe tbody tr th:only-of-type {\n",
       "        vertical-align: middle;\n",
       "    }\n",
       "\n",
       "    .dataframe tbody tr th {\n",
       "        vertical-align: top;\n",
       "    }\n",
       "\n",
       "    .dataframe thead th {\n",
       "        text-align: right;\n",
       "    }\n",
       "</style>\n",
       "<table border=\"1\" class=\"dataframe\">\n",
       "  <thead>\n",
       "    <tr style=\"text-align: right;\">\n",
       "      <th></th>\n",
       "      <th>date</th>\n",
       "      <th>text</th>\n",
       "      <th>compound</th>\n",
       "      <th>positive</th>\n",
       "      <th>negative</th>\n",
       "      <th>neutral</th>\n",
       "    </tr>\n",
       "  </thead>\n",
       "  <tbody>\n",
       "    <tr>\n",
       "      <th>0</th>\n",
       "      <td>2020-09-02</td>\n",
       "      <td>William Mougayar is the author of The Business...</td>\n",
       "      <td>0.0000</td>\n",
       "      <td>0.000</td>\n",
       "      <td>0.000</td>\n",
       "      <td>1.000</td>\n",
       "    </tr>\n",
       "    <tr>\n",
       "      <th>1</th>\n",
       "      <td>2020-09-02</td>\n",
       "      <td>Note: All information on this page is subject ...</td>\n",
       "      <td>0.8402</td>\n",
       "      <td>0.250</td>\n",
       "      <td>0.000</td>\n",
       "      <td>0.750</td>\n",
       "    </tr>\n",
       "    <tr>\n",
       "      <th>2</th>\n",
       "      <td>2020-09-02</td>\n",
       "      <td>Cybersecurity experts at ESET published an in-...</td>\n",
       "      <td>-0.5423</td>\n",
       "      <td>0.000</td>\n",
       "      <td>0.143</td>\n",
       "      <td>0.857</td>\n",
       "    </tr>\n",
       "    <tr>\n",
       "      <th>3</th>\n",
       "      <td>2020-09-02</td>\n",
       "      <td>Bitcoin had a lackluster August while Ethereum...</td>\n",
       "      <td>0.1779</td>\n",
       "      <td>0.054</td>\n",
       "      <td>0.000</td>\n",
       "      <td>0.946</td>\n",
       "    </tr>\n",
       "    <tr>\n",
       "      <th>4</th>\n",
       "      <td>2020-09-02</td>\n",
       "      <td>Ethan Voraotsady\\r\\nEthan Voraotsady\\r\\nEthan ...</td>\n",
       "      <td>0.9062</td>\n",
       "      <td>0.261</td>\n",
       "      <td>0.000</td>\n",
       "      <td>0.739</td>\n",
       "    </tr>\n",
       "  </tbody>\n",
       "</table>\n",
       "</div>"
      ],
      "text/plain": [
       "         date                                               text  compound  \\\n",
       "0  2020-09-02  William Mougayar is the author of The Business...    0.0000   \n",
       "1  2020-09-02  Note: All information on this page is subject ...    0.8402   \n",
       "2  2020-09-02  Cybersecurity experts at ESET published an in-...   -0.5423   \n",
       "3  2020-09-02  Bitcoin had a lackluster August while Ethereum...    0.1779   \n",
       "4  2020-09-02  Ethan Voraotsady\\r\\nEthan Voraotsady\\r\\nEthan ...    0.9062   \n",
       "\n",
       "   positive  negative  neutral  \n",
       "0     0.000     0.000    1.000  \n",
       "1     0.250     0.000    0.750  \n",
       "2     0.000     0.143    0.857  \n",
       "3     0.054     0.000    0.946  \n",
       "4     0.261     0.000    0.739  "
      ]
     },
     "execution_count": 77,
     "metadata": {},
     "output_type": "execute_result"
    }
   ],
   "source": [
    "# Create the Ethereum sentiment scores DataFrame\n",
    "\n",
    "ethereum_sentiments = []\n",
    "\n",
    "for article in ethereum_data [\"articles\"]:\n",
    "    try:\n",
    "        text = article[\"content\"]\n",
    "        date = article[\"publishedAt\"][:10]\n",
    "        sentiment = analyzer.polarity_scores(text)\n",
    "        compound = sentiment[\"compound\"]\n",
    "        pos = sentiment[\"pos\"]\n",
    "        neu = sentiment[\"neu\"]\n",
    "        neg = sentiment[\"neg\"]\n",
    "        \n",
    "        ethereum_sentiments.append({\n",
    "            \"text\": text,\n",
    "            \"date\": date,\n",
    "            \"compound\": compound,\n",
    "            \"positive\": pos,\n",
    "            \"negative\": neg,\n",
    "            \"neutral\": neu\n",
    "            \n",
    "        })\n",
    "        \n",
    "    except AttributeError:\n",
    "        pass\n",
    "    \n",
    "# Create DataFrame\n",
    "ethereum_df = pd.DataFrame(ethereum_sentiments)\n",
    "\n",
    "# Reorder DataFrame columns\n",
    "cols = [\"date\", \"text\", \"compound\", \"positive\", \"negative\", \"neutral\"]\n",
    "ethereum_df =ethereum_df[cols]\n",
    "\n",
    "ethereum_df.head()"
   ]
  },
  {
   "cell_type": "code",
   "execution_count": 78,
   "metadata": {},
   "outputs": [
    {
     "data": {
      "text/html": [
       "<div>\n",
       "<style scoped>\n",
       "    .dataframe tbody tr th:only-of-type {\n",
       "        vertical-align: middle;\n",
       "    }\n",
       "\n",
       "    .dataframe tbody tr th {\n",
       "        vertical-align: top;\n",
       "    }\n",
       "\n",
       "    .dataframe thead th {\n",
       "        text-align: right;\n",
       "    }\n",
       "</style>\n",
       "<table border=\"1\" class=\"dataframe\">\n",
       "  <thead>\n",
       "    <tr style=\"text-align: right;\">\n",
       "      <th></th>\n",
       "      <th>compound</th>\n",
       "      <th>positive</th>\n",
       "      <th>negative</th>\n",
       "      <th>neutral</th>\n",
       "    </tr>\n",
       "  </thead>\n",
       "  <tbody>\n",
       "    <tr>\n",
       "      <th>count</th>\n",
       "      <td>20.000000</td>\n",
       "      <td>20.000000</td>\n",
       "      <td>20.00000</td>\n",
       "      <td>20.00000</td>\n",
       "    </tr>\n",
       "    <tr>\n",
       "      <th>mean</th>\n",
       "      <td>0.172170</td>\n",
       "      <td>0.090600</td>\n",
       "      <td>0.05085</td>\n",
       "      <td>0.85850</td>\n",
       "    </tr>\n",
       "    <tr>\n",
       "      <th>std</th>\n",
       "      <td>0.423102</td>\n",
       "      <td>0.085651</td>\n",
       "      <td>0.06070</td>\n",
       "      <td>0.10399</td>\n",
       "    </tr>\n",
       "    <tr>\n",
       "      <th>min</th>\n",
       "      <td>-0.599400</td>\n",
       "      <td>0.000000</td>\n",
       "      <td>0.00000</td>\n",
       "      <td>0.66500</td>\n",
       "    </tr>\n",
       "    <tr>\n",
       "      <th>25%</th>\n",
       "      <td>-0.032000</td>\n",
       "      <td>0.000000</td>\n",
       "      <td>0.00000</td>\n",
       "      <td>0.78225</td>\n",
       "    </tr>\n",
       "    <tr>\n",
       "      <th>50%</th>\n",
       "      <td>0.140550</td>\n",
       "      <td>0.077000</td>\n",
       "      <td>0.02100</td>\n",
       "      <td>0.86500</td>\n",
       "    </tr>\n",
       "    <tr>\n",
       "      <th>75%</th>\n",
       "      <td>0.541550</td>\n",
       "      <td>0.151000</td>\n",
       "      <td>0.08750</td>\n",
       "      <td>0.92550</td>\n",
       "    </tr>\n",
       "    <tr>\n",
       "      <th>max</th>\n",
       "      <td>0.840200</td>\n",
       "      <td>0.250000</td>\n",
       "      <td>0.18400</td>\n",
       "      <td>1.00000</td>\n",
       "    </tr>\n",
       "  </tbody>\n",
       "</table>\n",
       "</div>"
      ],
      "text/plain": [
       "        compound   positive  negative   neutral\n",
       "count  20.000000  20.000000  20.00000  20.00000\n",
       "mean    0.172170   0.090600   0.05085   0.85850\n",
       "std     0.423102   0.085651   0.06070   0.10399\n",
       "min    -0.599400   0.000000   0.00000   0.66500\n",
       "25%    -0.032000   0.000000   0.00000   0.78225\n",
       "50%     0.140550   0.077000   0.02100   0.86500\n",
       "75%     0.541550   0.151000   0.08750   0.92550\n",
       "max     0.840200   0.250000   0.18400   1.00000"
      ]
     },
     "execution_count": 78,
     "metadata": {},
     "output_type": "execute_result"
    }
   ],
   "source": [
    "# Describe the Bitcoin Sentiment\n",
    "\n",
    "bitcoin_df.describe()"
   ]
  },
  {
   "cell_type": "code",
   "execution_count": 79,
   "metadata": {},
   "outputs": [
    {
     "data": {
      "text/html": [
       "<div>\n",
       "<style scoped>\n",
       "    .dataframe tbody tr th:only-of-type {\n",
       "        vertical-align: middle;\n",
       "    }\n",
       "\n",
       "    .dataframe tbody tr th {\n",
       "        vertical-align: top;\n",
       "    }\n",
       "\n",
       "    .dataframe thead th {\n",
       "        text-align: right;\n",
       "    }\n",
       "</style>\n",
       "<table border=\"1\" class=\"dataframe\">\n",
       "  <thead>\n",
       "    <tr style=\"text-align: right;\">\n",
       "      <th></th>\n",
       "      <th>compound</th>\n",
       "      <th>positive</th>\n",
       "      <th>negative</th>\n",
       "      <th>neutral</th>\n",
       "    </tr>\n",
       "  </thead>\n",
       "  <tbody>\n",
       "    <tr>\n",
       "      <th>count</th>\n",
       "      <td>20.000000</td>\n",
       "      <td>20.00000</td>\n",
       "      <td>20.00000</td>\n",
       "      <td>20.000000</td>\n",
       "    </tr>\n",
       "    <tr>\n",
       "      <th>mean</th>\n",
       "      <td>0.131755</td>\n",
       "      <td>0.07490</td>\n",
       "      <td>0.04120</td>\n",
       "      <td>0.883950</td>\n",
       "    </tr>\n",
       "    <tr>\n",
       "      <th>std</th>\n",
       "      <td>0.499022</td>\n",
       "      <td>0.08597</td>\n",
       "      <td>0.06693</td>\n",
       "      <td>0.083048</td>\n",
       "    </tr>\n",
       "    <tr>\n",
       "      <th>min</th>\n",
       "      <td>-0.757900</td>\n",
       "      <td>0.00000</td>\n",
       "      <td>0.00000</td>\n",
       "      <td>0.739000</td>\n",
       "    </tr>\n",
       "    <tr>\n",
       "      <th>25%</th>\n",
       "      <td>-0.307000</td>\n",
       "      <td>0.00000</td>\n",
       "      <td>0.00000</td>\n",
       "      <td>0.838000</td>\n",
       "    </tr>\n",
       "    <tr>\n",
       "      <th>50%</th>\n",
       "      <td>0.088950</td>\n",
       "      <td>0.04900</td>\n",
       "      <td>0.00000</td>\n",
       "      <td>0.874500</td>\n",
       "    </tr>\n",
       "    <tr>\n",
       "      <th>75%</th>\n",
       "      <td>0.476775</td>\n",
       "      <td>0.11400</td>\n",
       "      <td>0.06525</td>\n",
       "      <td>0.940000</td>\n",
       "    </tr>\n",
       "    <tr>\n",
       "      <th>max</th>\n",
       "      <td>0.906200</td>\n",
       "      <td>0.26100</td>\n",
       "      <td>0.22400</td>\n",
       "      <td>1.000000</td>\n",
       "    </tr>\n",
       "  </tbody>\n",
       "</table>\n",
       "</div>"
      ],
      "text/plain": [
       "        compound  positive  negative    neutral\n",
       "count  20.000000  20.00000  20.00000  20.000000\n",
       "mean    0.131755   0.07490   0.04120   0.883950\n",
       "std     0.499022   0.08597   0.06693   0.083048\n",
       "min    -0.757900   0.00000   0.00000   0.739000\n",
       "25%    -0.307000   0.00000   0.00000   0.838000\n",
       "50%     0.088950   0.04900   0.00000   0.874500\n",
       "75%     0.476775   0.11400   0.06525   0.940000\n",
       "max     0.906200   0.26100   0.22400   1.000000"
      ]
     },
     "execution_count": 79,
     "metadata": {},
     "output_type": "execute_result"
    }
   ],
   "source": [
    "# Describe the Ethereum Sentiment\n",
    "\n",
    "ethereum_df.describe()"
   ]
  },
  {
   "cell_type": "code",
   "execution_count": 80,
   "metadata": {},
   "outputs": [],
   "source": [
    "#Save dataframe as csv"
   ]
  },
  {
   "cell_type": "markdown",
   "metadata": {},
   "source": [
    "### Questions:\n",
    "\n",
    "Q: Which coin had the highest mean positive score?\n",
    "\n",
    "A: \n",
    "\n",
    "Q: Which coin had the highest compound score?\n",
    "\n",
    "A: \n",
    "\n",
    "Q. Which coin had the highest positive score?\n",
    "\n",
    "A: "
   ]
  },
  {
   "cell_type": "markdown",
   "metadata": {},
   "source": [
    "---"
   ]
  },
  {
   "cell_type": "markdown",
   "metadata": {},
   "source": [
    "## 2. Natural Language Processing\n",
    "---\n",
    "###   Tokenizer\n",
    "\n",
    "In this section, you will use NLTK and Python to tokenize the text for each coin. Be sure to:\n",
    "1. Lowercase each word\n",
    "2. Remove Punctuation\n",
    "3. Remove Stopwords"
   ]
  },
  {
   "cell_type": "code",
   "execution_count": 82,
   "metadata": {},
   "outputs": [],
   "source": [
    "from nltk.tokenize import word_tokenize, sent_tokenize\n",
    "from nltk.corpus import stopwords\n",
    "from nltk.stem import WordNetLemmatizer, PorterStemmer\n",
    "from string import punctuation\n",
    "import re"
   ]
  },
  {
   "cell_type": "code",
   "execution_count": 83,
   "metadata": {},
   "outputs": [],
   "source": [
    "# Instantiate the lemmatizer\n",
    "lemmatizer = WordNetLemmatizer()"
   ]
  },
  {
   "cell_type": "code",
   "execution_count": 84,
   "metadata": {},
   "outputs": [],
   "source": [
    "# Expand the default stopwords list if necessary\n",
    "# YOUR CODE HERE!\n",
    "sw = set(stopwords.words('english'))\n",
    "\n",
    "#print(sw)\n",
    "\n",
    "sw_addons = {'said', 'saw','sent', 'found', 'including', 'today', 'announced', 'week', 'basically', 'also','get','way', 'url'}"
   ]
  },
  {
   "cell_type": "code",
   "execution_count": 87,
   "metadata": {},
   "outputs": [],
   "source": [
    "# Complete the tokenizer function\n",
    "def tokenizer(text):\n",
    "    \"\"\"Tokenizes text.\"\"\"\n",
    "    \n",
    "     # Remove the punctuation\n",
    "    regex = re.compile(\"[^a-zA-Z ]\")\n",
    "    re_clean = regex.sub('', text)\n",
    "    \n",
    "    # Create a list of the words\n",
    "    words = word_tokenize(re_clean) \n",
    "        \n",
    "    # Convert the words to lowercase\n",
    "    output =  [word.lower() for word in words]\n",
    "   \n",
    "    \n",
    "    # Remove the stop words\n",
    "    new_output =  [word for word in output if word not in sw.union(sw_addons)]\n",
    "    \n",
    "    # Lemmatize Words into root words\n",
    "    tokens = [lemmatizer.lemmatize(word) for word in new_output]\n",
    "    \n",
    "    return tokens"
   ]
  },
  {
   "cell_type": "code",
   "execution_count": 90,
   "metadata": {},
   "outputs": [
    {
     "data": {
      "text/html": [
       "<div>\n",
       "<style scoped>\n",
       "    .dataframe tbody tr th:only-of-type {\n",
       "        vertical-align: middle;\n",
       "    }\n",
       "\n",
       "    .dataframe tbody tr th {\n",
       "        vertical-align: top;\n",
       "    }\n",
       "\n",
       "    .dataframe thead th {\n",
       "        text-align: right;\n",
       "    }\n",
       "</style>\n",
       "<table border=\"1\" class=\"dataframe\">\n",
       "  <thead>\n",
       "    <tr style=\"text-align: right;\">\n",
       "      <th></th>\n",
       "      <th>date</th>\n",
       "      <th>text</th>\n",
       "      <th>compound</th>\n",
       "      <th>positive</th>\n",
       "      <th>negative</th>\n",
       "      <th>neutral</th>\n",
       "      <th>tokens</th>\n",
       "    </tr>\n",
       "  </thead>\n",
       "  <tbody>\n",
       "    <tr>\n",
       "      <th>15</th>\n",
       "      <td>2020-09-02</td>\n",
       "      <td>Following an earlier endeavor selling Bitcoin ...</td>\n",
       "      <td>0.3612</td>\n",
       "      <td>0.070</td>\n",
       "      <td>0.000</td>\n",
       "      <td>0.930</td>\n",
       "      <td>[followingan, earlier, endeavorselling, bitcoi...</td>\n",
       "    </tr>\n",
       "    <tr>\n",
       "      <th>16</th>\n",
       "      <td>2020-09-02</td>\n",
       "      <td>Note: All information on this page is subject ...</td>\n",
       "      <td>0.8402</td>\n",
       "      <td>0.250</td>\n",
       "      <td>0.000</td>\n",
       "      <td>0.750</td>\n",
       "      <td>[note, information, page, subject, change, use...</td>\n",
       "    </tr>\n",
       "    <tr>\n",
       "      <th>17</th>\n",
       "      <td>2020-09-02</td>\n",
       "      <td>Bitcoin Core developer Pieter Wuille has migra...</td>\n",
       "      <td>0.0000</td>\n",
       "      <td>0.000</td>\n",
       "      <td>0.000</td>\n",
       "      <td>1.000</td>\n",
       "      <td>[bitcoin, core, developer, pieter, wuille, mig...</td>\n",
       "    </tr>\n",
       "    <tr>\n",
       "      <th>18</th>\n",
       "      <td>2020-09-02</td>\n",
       "      <td>Click to download audio version\\r\\n\"As we conc...</td>\n",
       "      <td>0.0000</td>\n",
       "      <td>0.000</td>\n",
       "      <td>0.000</td>\n",
       "      <td>1.000</td>\n",
       "      <td>[click, download, audio, versionas, conclude, ...</td>\n",
       "    </tr>\n",
       "    <tr>\n",
       "      <th>19</th>\n",
       "      <td>2020-09-02</td>\n",
       "      <td>Band Protocol was an early winner in the DeFi ...</td>\n",
       "      <td>0.6808</td>\n",
       "      <td>0.164</td>\n",
       "      <td>0.042</td>\n",
       "      <td>0.794</td>\n",
       "      <td>[band, protocol, early, winner, defi, craze, p...</td>\n",
       "    </tr>\n",
       "  </tbody>\n",
       "</table>\n",
       "</div>"
      ],
      "text/plain": [
       "          date                                               text  compound  \\\n",
       "15  2020-09-02  Following an earlier endeavor selling Bitcoin ...    0.3612   \n",
       "16  2020-09-02  Note: All information on this page is subject ...    0.8402   \n",
       "17  2020-09-02  Bitcoin Core developer Pieter Wuille has migra...    0.0000   \n",
       "18  2020-09-02  Click to download audio version\\r\\n\"As we conc...    0.0000   \n",
       "19  2020-09-02  Band Protocol was an early winner in the DeFi ...    0.6808   \n",
       "\n",
       "    positive  negative  neutral  \\\n",
       "15     0.070     0.000    0.930   \n",
       "16     0.250     0.000    0.750   \n",
       "17     0.000     0.000    1.000   \n",
       "18     0.000     0.000    1.000   \n",
       "19     0.164     0.042    0.794   \n",
       "\n",
       "                                               tokens  \n",
       "15  [followingan, earlier, endeavorselling, bitcoi...  \n",
       "16  [note, information, page, subject, change, use...  \n",
       "17  [bitcoin, core, developer, pieter, wuille, mig...  \n",
       "18  [click, download, audio, versionas, conclude, ...  \n",
       "19  [band, protocol, early, winner, defi, craze, p...  "
      ]
     },
     "execution_count": 90,
     "metadata": {},
     "output_type": "execute_result"
    }
   ],
   "source": [
    "#tokenize the text column from the bitcoin dataframe\n",
    "bitcoin_df[\"text\"].apply(tokenizer)\n",
    "\n",
    "\n",
    "\n",
    "# Create a new tokens column for Bitcoin\n",
    "bitcoin_df[\"tokens\"]= bitcoin_df[\"text\"].apply(tokenizer)\n",
    "bitcoin_df.tail()\n"
   ]
  },
  {
   "cell_type": "code",
   "execution_count": 92,
   "metadata": {},
   "outputs": [
    {
     "data": {
      "text/html": [
       "<div>\n",
       "<style scoped>\n",
       "    .dataframe tbody tr th:only-of-type {\n",
       "        vertical-align: middle;\n",
       "    }\n",
       "\n",
       "    .dataframe tbody tr th {\n",
       "        vertical-align: top;\n",
       "    }\n",
       "\n",
       "    .dataframe thead th {\n",
       "        text-align: right;\n",
       "    }\n",
       "</style>\n",
       "<table border=\"1\" class=\"dataframe\">\n",
       "  <thead>\n",
       "    <tr style=\"text-align: right;\">\n",
       "      <th></th>\n",
       "      <th>date</th>\n",
       "      <th>text</th>\n",
       "      <th>compound</th>\n",
       "      <th>positive</th>\n",
       "      <th>negative</th>\n",
       "      <th>neutral</th>\n",
       "      <th>tokens</th>\n",
       "    </tr>\n",
       "  </thead>\n",
       "  <tbody>\n",
       "    <tr>\n",
       "      <th>0</th>\n",
       "      <td>2020-09-02</td>\n",
       "      <td>William Mougayar is the author of The Business...</td>\n",
       "      <td>0.0000</td>\n",
       "      <td>0.000</td>\n",
       "      <td>0.000</td>\n",
       "      <td>1.000</td>\n",
       "      <td>[william, mougayar, author, business, blockcha...</td>\n",
       "    </tr>\n",
       "    <tr>\n",
       "      <th>1</th>\n",
       "      <td>2020-09-02</td>\n",
       "      <td>Note: All information on this page is subject ...</td>\n",
       "      <td>0.8402</td>\n",
       "      <td>0.250</td>\n",
       "      <td>0.000</td>\n",
       "      <td>0.750</td>\n",
       "      <td>[note, information, page, subject, change, use...</td>\n",
       "    </tr>\n",
       "    <tr>\n",
       "      <th>2</th>\n",
       "      <td>2020-09-02</td>\n",
       "      <td>Cybersecurity experts at ESET published an in-...</td>\n",
       "      <td>-0.5423</td>\n",
       "      <td>0.000</td>\n",
       "      <td>0.143</td>\n",
       "      <td>0.857</td>\n",
       "      <td>[cybersecurity, expert, eset, published, indep...</td>\n",
       "    </tr>\n",
       "    <tr>\n",
       "      <th>3</th>\n",
       "      <td>2020-09-02</td>\n",
       "      <td>Bitcoin had a lackluster August while Ethereum...</td>\n",
       "      <td>0.1779</td>\n",
       "      <td>0.054</td>\n",
       "      <td>0.000</td>\n",
       "      <td>0.946</td>\n",
       "      <td>[bitcoin, lackluster, august, ethereum, gas, f...</td>\n",
       "    </tr>\n",
       "    <tr>\n",
       "      <th>4</th>\n",
       "      <td>2020-09-02</td>\n",
       "      <td>Ethan Voraotsady\\r\\nEthan Voraotsady\\r\\nEthan ...</td>\n",
       "      <td>0.9062</td>\n",
       "      <td>0.261</td>\n",
       "      <td>0.000</td>\n",
       "      <td>0.739</td>\n",
       "      <td>[ethan, voraotsadyethan, voraotsadyethan, vora...</td>\n",
       "    </tr>\n",
       "  </tbody>\n",
       "</table>\n",
       "</div>"
      ],
      "text/plain": [
       "         date                                               text  compound  \\\n",
       "0  2020-09-02  William Mougayar is the author of The Business...    0.0000   \n",
       "1  2020-09-02  Note: All information on this page is subject ...    0.8402   \n",
       "2  2020-09-02  Cybersecurity experts at ESET published an in-...   -0.5423   \n",
       "3  2020-09-02  Bitcoin had a lackluster August while Ethereum...    0.1779   \n",
       "4  2020-09-02  Ethan Voraotsady\\r\\nEthan Voraotsady\\r\\nEthan ...    0.9062   \n",
       "\n",
       "   positive  negative  neutral  \\\n",
       "0     0.000     0.000    1.000   \n",
       "1     0.250     0.000    0.750   \n",
       "2     0.000     0.143    0.857   \n",
       "3     0.054     0.000    0.946   \n",
       "4     0.261     0.000    0.739   \n",
       "\n",
       "                                              tokens  \n",
       "0  [william, mougayar, author, business, blockcha...  \n",
       "1  [note, information, page, subject, change, use...  \n",
       "2  [cybersecurity, expert, eset, published, indep...  \n",
       "3  [bitcoin, lackluster, august, ethereum, gas, f...  \n",
       "4  [ethan, voraotsadyethan, voraotsadyethan, vora...  "
      ]
     },
     "execution_count": 92,
     "metadata": {},
     "output_type": "execute_result"
    }
   ],
   "source": [
    "#tokenize the text column from the bitcoin dataframe\n",
    "ethereum_df[\"text\"].apply(tokenizer)\n",
    "\n",
    "# Create a new tokens column for Ethereum\n",
    "ethereum_df[\"tokens\"]= ethereum_df[\"text\"].apply(tokenizer)\n",
    "ethereum_df.head()\n"
   ]
  },
  {
   "cell_type": "markdown",
   "metadata": {},
   "source": [
    "---"
   ]
  },
  {
   "cell_type": "markdown",
   "metadata": {},
   "source": [
    "### NGrams and Frequency Analysis\n",
    "\n",
    "In this section you will look at the ngrams and word frequency for each coin. \n",
    "\n",
    "1. Use NLTK to produce the n-grams for N = 2. \n",
    "2. List the top 10 words for each coin. "
   ]
  },
  {
   "cell_type": "code",
   "execution_count": 93,
   "metadata": {},
   "outputs": [],
   "source": [
    "from collections import Counter\n",
    "from nltk import ngrams"
   ]
  },
  {
   "cell_type": "code",
   "execution_count": 94,
   "metadata": {},
   "outputs": [
    {
     "name": "stdout",
     "output_type": "stream",
     "text": [
      "{('authored', 'thorstein'): 1, ('thorstein', 'polleit'): 1, ('polleit', 'via'): 1, ('via', 'mi'): 1, ('mi', 'institutethe'): 1, ('institutethe', 'title'): 1, ('title', 'article'): 1, ('article', 'epitomizes'): 1, ('epitomizes', 'austrian'): 1, ('austrian', 'economist'): 1, ('economist', 'ludwig'): 1, ('ludwig', 'von'): 1, ('von', 'mi'): 1, ('mi', 'called'): 1, ('called', 'sound'): 1, ('sound', 'money'): 1, ('money', 'principleas'): 1, ('principleas', 'mi'): 1, ('mi', 'put'): 1, ('put', 'charsbuying'): 1, ('charsbuying', 'dirtcheap'): 1, ('dirtcheap', 'stock'): 1, ('stock', 'market'): 1, ('market', 'crash'): 1, ('crash', 'could'): 1, ('could', 'sound'): 1, ('sound', 'mean'): 1, ('mean', 'generating'): 1, ('generating', 'high'): 1, ('high', 'return'): 1, ('return', 'long'): 1, ('long', 'run'): 1, ('run', 'undervalued'): 1, ('undervalued', 'share'): 1, ('share', 'historically'): 1, ('historically', 'offered'): 1, ('offered', 'strong'): 1, ('strong', 'capital'): 1, ('capital', 'gain'): 1, ('gain', 'stock'): 1, ('stock', 'marke'): 1, ('marke', 'charsbitcoin'): 1, ('charsbitcoin', 'strong'): 1, ('strong', 'crash'): 1, ('crash', 'wednesday'): 1, ('wednesday', 'another'): 1, ('another', 'attempt'): 1, ('attempt', 'breaking'): 1, ('breaking', 'past'): 1, ('past', 'holding'): 1, ('holding', 'leading'): 1, ('leading', 'cryptocurrency'): 1, ('cryptocurrency', 'dropped'): 2, ('dropped', 'low'): 2, ('low', 'seller'): 1, ('seller', 'flooded'): 1, ('flooded', 'marketsome'): 1, ('marketsome', 'say'): 1, ('say', 'wa'): 1, ('wa', 'charsnote'): 1, ('charsnote', 'information'): 2, ('information', 'page'): 2, ('page', 'subject'): 2, ('subject', 'change'): 2, ('change', 'use'): 2, ('use', 'website'): 2, ('website', 'constitutes'): 2, ('constitutes', 'acceptance'): 2, ('acceptance', 'user'): 2, ('user', 'agreement'): 2, ('agreement', 'please'): 2, ('please', 'read'): 2, ('read', 'privacy'): 2, ('privacy', 'policy'): 2, ('policy', 'legal'): 2, ('legal', 'disclaimertrading'): 2, ('disclaimertrading', 'foreign'): 2, ('foreign', 'ex'): 2, ('ex', 'charsresponding'): 1, ('charsresponding', 'numerous'): 1, ('numerous', 'attack'): 1, ('attack', 'ethereum'): 1, ('ethereum', 'classic'): 1, ('classic', 'blockchain'): 1, ('blockchain', 'etc'): 1, ('etc', 'lab'): 1, ('lab', 'time'): 1, ('time', 'bring'): 1, ('bring', 'regulation'): 1, ('regulation', 'hashpower'): 1, ('hashpower', 'rental'): 1, ('rental', 'marketplace'): 1, ('marketplace', 'citing'): 1, ('citing', 'fact'): 1, ('fact', 'least'): 1, ('least', 'two'): 1, ('two', 'atta'): 1, ('atta', 'charsthe'): 1, ('charsthe', 'verified'): 1, ('verified', 'twitter'): 1, ('twitter', 'handle'): 1, ('handle', 'made'): 1, ('made', 'modis'): 1, ('modis', 'personal'): 2, ('personal', 'website'): 2, ('website', 'boasting'): 1, ('boasting', 'million'): 1, ('million', 'follower'): 1, ('follower', 'hit'): 1, ('hit', 'security'): 1, ('security', 'breach'): 1, ('breach', 'wednesday'): 1, ('wednesday', 'sending'): 1, ('sending', 'string'): 1, ('string', 'post'): 1, ('post', 'penned'): 1, ('penned', 'shaky'): 1, ('shaky', 'english'): 1, ('english', 'charsa'): 1, ('charsa', 'bitcoin'): 1, ('bitcoin', 'bungle'): 1, ('bungle', 'cause'): 1, ('cause', 'one'): 1, ('one', 'user'): 1, ('user', 'lose'): 1, ('lose', 'million'): 1, ('million', 'hacker'): 1, ('hacker', 'attempt'): 1, ('attempt', 'bribe'): 1, ('bribe', 'tesla'): 1, ('tesla', 'employee'): 1, ('employee', 'infecting'): 1, ('infecting', 'company'): 1, ('company', 'network'): 1, ('network', 'ready'): 1, ('ready', 'sky'): 1, ('sky', 'full'): 1, ('full', 'dronesall'): 1, ('dronesall', 'much'): 1, ('much', 'charsulliopen'): 1, ('charsulliopen', 'lilicurrent'): 1, ('lilicurrent', 'price'): 1, ('price', 'liulbtcusd'): 1, ('liulbtcusd', 'sits'): 1, ('sits', 'top'): 1, ('top', 'support'): 1, ('support', 'line'): 1, ('line', 'line'): 1, ('line', 'highlighted'): 1, ('highlighted', 'weekly'): 1, ('weekly', 'fibonacci'): 1, ('fibonacci', 'retracement'): 1, ('retracement', 'level'): 1, ('level', 'monthly'): 1, ('monthly', 'fi'): 1, ('fi', 'charsulliit'): 1, ('charsulliit', 'rocky'): 1, ('rocky', 'past'): 1, ('past', 'day'): 1, ('day', 'bitcoin'): 1, ('bitcoin', 'benchmark'): 1, ('benchmark', 'cryptocurrency'): 1, ('low', 'following'): 1, ('following', 'yesterday'): 1, ('yesterday', 'surge'): 1, ('surge', 'high'): 1, ('high', 'lilithis'): 1, ('lilithis', 'weakness'): 1, ('weakness', 'came'): 1, ('came', 'charsxrp'): 1, ('charsxrp', 'closely'): 1, ('closely', 'tracking'): 1, ('tracking', 'bitcoin'): 1, ('bitcoin', 'major'): 1, ('major', 'altcoins'): 1, ('altcoins', 'throughout'): 1, ('throughout', 'past'): 1, ('past', 'daysalthough'): 1, ('daysalthough', 'helped'): 1, ('helped', 'provide'): 1, ('provide', 'slight'): 1, ('slight', 'momentum'): 1, ('momentum', 'earlier'): 1, ('earlier', 'since'): 1, ('since', 'caused'): 1, ('caused', 'charsfortune'): 1, ('charsfortune', 'picked'): 1, ('picked', 'number'): 1, ('number', 'individual'): 1, ('individual', 'deemed'): 1, ('deemed', 'influential'): 1, ('influential', 'listing'): 1, ('listing', 'different'): 1, ('different', 'name'): 1, ('name', 'across'): 1, ('across', 'five'): 1, ('five', 'separate'): 1, ('separate', 'sectorsbinanceus'): 1, ('sectorsbinanceus', 'ceo'): 1, ('ceo', 'catherine'): 1, ('catherine', 'coley'): 1, ('coley', 'etoro'): 1, ('etoro', 'ceo'): 1, ('ceo', 'yoni'): 1, ('yoni', 'assia'): 1, ('assia', 'fo'): 1, ('fo', 'charssuccessful'): 1, ('charssuccessful', 'ransomware'): 1, ('ransomware', 'attack'): 1, ('attack', 'continue'): 1, ('continue', 'create'): 1, ('create', 'serious'): 1, ('serious', 'drawback'): 1, ('drawback', 'affected'): 1, ('affected', 'company'): 1, ('company', 'cwt'): 1, ('cwt', 'u'): 1, ('u', 'travel'): 1, ('travel', 'management'): 1, ('management', 'firm'): 1, ('firm', 'pay'): 1, ('pay', 'million'): 1, ('million', 'usd'): 1, ('usd', 'hacker'): 1, ('hacker', 'group'): 1, ('group', 'recover'): 1, ('recover', 'thousand'): 1, ('thousand', 'charspalo'): 1, ('charspalo', 'alto'): 1, ('alto', 'califbusiness'): 1, ('califbusiness', 'wirebitgo'): 1, ('wirebitgo', 'inc'): 1, ('inc', 'leader'): 1, ('leader', 'digital'): 1, ('digital', 'asset'): 1, ('asset', 'financial'): 1, ('financial', 'service'): 2, ('service', 'bitgate'): 1, ('bitgate', 'financial'): 1, ('service', 'agency'): 1, ('agency', 'fsa'): 1, ('fsa', 'regulated'): 1, ('regulated', 'exchange'): 1, ('exchange', 'based'): 1, ('based', 'japan'): 1, ('japan', 'charsas'): 1, ('charsas', 'many'): 1, ('many', 'organisation'): 1, ('organisation', 'around'): 1, ('around', 'world'): 1, ('world', 'plagued'): 1, ('plagued', 'distributed'): 1, ('distributed', 'denial'): 1, ('denial', 'service'): 1, ('service', 'ddos'): 1, ('ddos', 'attack'): 1, ('attack', 'security'): 1, ('security', 'firm'): 1, ('firm', 'analyst'): 1, ('analyst', 'best'): 1, ('best', 'untangle'): 1, ('untangle', 'attack'): 1, ('attack', 'web'): 1, ('web', 'find'): 1, ('find', 'charsthe'): 1, ('charsthe', 'twitter'): 1, ('twitter', 'account'): 1, ('account', 'linked'): 1, ('linked', 'prime'): 1, ('prime', 'minister'): 1, ('minister', 'narendra'): 1, ('narendra', 'modis'): 1, ('website', 'appeared'): 1, ('appeared', 'hacked'): 1, ('hacked', 'crpytic'): 1, ('crpytic', 'tweet'): 1, ('tweet', 'posted'): 1, ('posted', 'thursdayin'): 1, ('thursdayin', 'series'): 1, ('series', 'tweet'): 1, ('tweet', 'related'): 1, ('related', 'crypt'): 1, ('crypt', 'charsfollowingan'): 1, ('charsfollowingan', 'earlier'): 1, ('earlier', 'endeavorselling'): 1, ('endeavorselling', 'bitcoin'): 1, ('bitcoin', 'btc'): 1, ('btc', 'premiumon'): 1, ('premiumon', 'ebay'): 1, ('ebay', 'chris'): 1, ('chris', 'maurice'): 1, ('maurice', 'ceo'): 1, ('ceo', 'african'): 1, ('african', 'crypto'): 1, ('crypto', 'exchange'): 1, ('exchange', 'yellow'): 1, ('yellow', 'card'): 1, ('card', 'made'): 1, ('made', 'small'): 1, ('small', 'business'): 1, ('business', 'selling'): 1, ('selling', 'assetat'): 1, ('assetat', 'multiple'): 1, ('multiple', 'taco'): 1, ('taco', 'b'): 1, ('b', 'charsnote'): 1, ('ex', 'charsbitcoin'): 1, ('charsbitcoin', 'core'): 1, ('core', 'developer'): 1, ('developer', 'pieter'): 1, ('pieter', 'wuille'): 1, ('wuille', 'migrated'): 1, ('migrated', 'blockstream'): 1, ('blockstream', 'chaincode'): 1, ('chaincode', 'lab'): 1, ('lab', 'wuille'): 1, ('wuille', 'blockstream'): 1, ('blockstream', 'beginning'): 1, ('beginning', 'cofounded'): 1, ('cofounded', 'company'): 1, ('company', 'asked'): 1, ('asked', 'wuil'): 1, ('wuil', 'charsclick'): 1, ('charsclick', 'download'): 1, ('download', 'audio'): 1, ('audio', 'versionas'): 1, ('versionas', 'conclude'): 1, ('conclude', 'discovering'): 1, ('discovering', 'bitcoin'): 1, ('bitcoin', 'series'): 1, ('series', 'build'): 1, ('build', 'use'): 1, ('use', 'digital'): 1, ('digital', 'signature'): 1, ('signature', 'coinjoin'): 1, ('coinjoin', 'paradigm'): 1, ('paradigm', 'explore'): 1, ('explore', 'concept'): 1, ('concept', 'unique'): 1, ('unique', 'chronology'): 1, ('chronology', 'charsband'): 1, ('charsband', 'protocol'): 1, ('protocol', 'early'): 1, ('early', 'winner'): 1, ('winner', 'defi'): 1, ('defi', 'craze'): 1, ('craze', 'posting'): 1, ('posting', 'massive'): 1, ('massive', 'gain'): 1, ('gain', 'throughout'): 1, ('throughout', 'august'): 1, ('august', 'based'): 1, ('based', 'combination'): 1, ('combination', 'hype'): 1, ('hype', 'oracle'): 1, ('oracle', 'token'): 1, ('token', 'integration'): 1, ('integration', 'news'): 1, ('news', 'exchange'): 1, ('exchange', 'listingsthis'): 1, ('listingsthis', 'allowed'): 1, ('allowed', 'char'): 1}\n"
     ]
    }
   ],
   "source": [
    "#Join all texts to form a big string\n",
    "bitcoin_big_string = bitcoin_df[\"text\"].str.cat()\n",
    "\n",
    "#apply tokenizer function to get words\n",
    "bitcoin_words = tokenizer(bitcoin_big_string)\n",
    "\n",
    "\n",
    "# Generate the Bitcoin N-grams where N=2\n",
    "bitcoin_bigram_counts = Counter(ngrams(bitcoin_words, n=2))\n",
    "print(dict(bitcoin_bigram_counts))"
   ]
  },
  {
   "cell_type": "code",
   "execution_count": 96,
   "metadata": {},
   "outputs": [
    {
     "name": "stdout",
     "output_type": "stream",
     "text": [
      "{('william', 'mougayar'): 1, ('mougayar', 'author'): 1, ('author', 'business'): 1, ('business', 'blockchain'): 1, ('blockchain', 'producer'): 1, ('producer', 'token'): 1, ('token', 'summit'): 1, ('summit', 'venture'): 1, ('venture', 'investor'): 1, ('investor', 'adviserdefi'): 1, ('adviserdefi', 'grown'): 1, ('grown', 'point'): 1, ('point', 'mindshare'): 1, ('mindshare', 'far'): 1, ('far', 'exceeds'): 1, ('exceeds', 'relative'): 1, ('relative', 'charsnote'): 1, ('charsnote', 'information'): 1, ('information', 'page'): 1, ('page', 'subject'): 1, ('subject', 'change'): 1, ('change', 'use'): 1, ('use', 'website'): 1, ('website', 'constitutes'): 1, ('constitutes', 'acceptance'): 1, ('acceptance', 'user'): 1, ('user', 'agreement'): 1, ('agreement', 'please'): 1, ('please', 'read'): 1, ('read', 'privacy'): 1, ('privacy', 'policy'): 1, ('policy', 'legal'): 1, ('legal', 'disclaimertrading'): 1, ('disclaimertrading', 'foreign'): 1, ('foreign', 'ex'): 1, ('ex', 'charscybersecurity'): 1, ('charscybersecurity', 'expert'): 1, ('expert', 'eset'): 1, ('eset', 'published'): 1, ('published', 'indepth'): 1, ('indepth', 'study'): 1, ('study', 'new'): 1, ('new', 'malware'): 1, ('malware', 'named'): 1, ('named', 'kryptocibule'): 1, ('kryptocibule', 'exploit'): 1, ('exploit', 'specifically'): 1, ('specifically', 'target'): 1, ('target', 'window'): 1, ('window', 'user'): 1, ('user', 'three'): 1, ('three', 'method'): 1, ('method', 'attack'): 1, ('attack', 'installing'): 1, ('installing', 'charsbitcoin'): 1, ('charsbitcoin', 'lackluster'): 1, ('lackluster', 'august'): 1, ('august', 'ethereum'): 1, ('ethereum', 'gas'): 1, ('gas', 'fee'): 1, ('fee', 'soaring'): 1, ('soaring', 'chart'): 1, ('chart', 'coindesk'): 1, ('coindesk', 'research'): 1, ('research', 'monthly'): 1, ('monthly', 'review'): 1, ('review', 'august'): 1, ('august', 'look'): 1, ('look', 'bitcoin'): 1, ('bitcoin', 'btc'): 1, ('btc', 'performance'): 1, ('performance', 'compared'): 1, ('compared', 'traditional'): 1, ('traditional', 'asset'): 1, ('asset', 'charsethan'): 1, ('charsethan', 'voraotsadyethan'): 1, ('voraotsadyethan', 'voraotsadyethan'): 1, ('voraotsadyethan', 'voraotsadylos'): 1, ('voraotsadylos', 'angeles'): 1, ('angeles', 'california'): 1, ('california', 'sept'): 1, ('sept', 'globe'): 1, ('globe', 'newswire'): 1, ('newswire', 'two'): 1, ('two', 'quality'): 1, ('quality', 'wed'): 1, ('wed', 'love'): 2, ('love', 'wed'): 1, ('love', 'find'): 1, ('find', 'easy'): 1, ('easy', 'network'): 1, ('network', 'charson'): 1, ('charson', 'friday'): 1, ('friday', 'september'): 1, ('september', 'transfer'): 1, ('transfer', 'uma'): 1, ('uma', 'coinbase'): 1, ('coinbase', 'pro'): 1, ('pro', 'account'): 1, ('account', 'ahead'): 1, ('ahead', 'trading'): 1, ('trading', 'support'): 1, ('support', 'umawill'): 1, ('umawill', 'available'): 1, ('available', 'coinbases'): 1, ('coinbases', 'supported'): 1, ('supported', 'jurisdiction'): 1, ('jurisdiction', 'exception'): 1, ('exception', 'new'): 1, ('new', 'york'): 1, ('york', 'state'): 1, ('state', 'charsaccording'): 1, ('charsaccording', 'max'): 1, ('max', 'keiser'): 1, ('keiser', 'host'): 1, ('host', 'popular'): 1, ('popular', 'rt'): 1, ('rt', 'show'): 1, ('show', 'keiser'): 1, ('keiser', 'report'): 1, ('report', 'matter'): 1, ('matter', 'time'): 1, ('time', 'warren'): 1, ('warren', 'buffetts'): 1, ('buffetts', 'berkshire'): 1, ('berkshire', 'hathaway'): 1, ('hathaway', 'invest'): 1, ('invest', 'bitcoinnot'): 1, ('bitcoinnot', 'long'): 1, ('long', 'ago'): 1, ('ago', 'buffett'): 1, ('buffett', 'sold'): 1, ('sold', 'charsullibitcoin'): 1, ('charsullibitcoin', 'witnessed'): 1, ('witnessed', 'intense'): 1, ('intense', 'inflow'): 1, ('inflow', 'selling'): 1, ('selling', 'pressure'): 1, ('pressure', 'throughout'): 1, ('throughout', 'past'): 1, ('past', 'several'): 1, ('several', 'hour'): 1, ('hour', 'news'): 1, ('news', 'bithumbs'): 1, ('bithumbs', 'korean'): 1, ('korean', 'office'): 1, ('office', 'raided'): 1, ('raided', 'authoritieslilialthough'): 1, ('authoritieslilialthough', 'remains'): 1, ('remains', 'unclear'): 1, ('unclear', 'charssince'): 1, ('charssince', 'ethereum'): 1, ('ethereum', 'likely'): 1, ('likely', 'take'): 1, ('take', 'year'): 1, ('year', 'begin'): 1, ('begin', 'increasing'): 1, ('increasing', 'throughput'): 1, ('throughput', 'network'): 1, ('network', 'community'): 1, ('community', 'focus'): 1, ('focus', 'centering'): 1, ('centering', 'layertwo'): 1, ('layertwo', 'solution'): 1, ('solution', 'could'): 1, ('could', 'take'): 1, ('take', 'burden'): 1, ('burden', 'charsthe'): 1, ('charsthe', 'malware'): 1, ('malware', 'family'): 1, ('family', 'us'): 1, ('us', 'multiple'): 2, ('multiple', 'tactic'): 1, ('tactic', 'steal'): 1, ('steal', 'much'): 1, ('much', 'cryptocurrency'): 1, ('cryptocurrency', 'possible'): 1, ('possible', 'flying'): 1, ('flying', 'radara'): 1, ('radara', 'newly'): 1, ('newly', 'discovered'): 1, ('discovered', 'strain'): 1, ('strain', 'malware'): 1, ('malware', 'dubbed'): 1, ('dubbed', 'kryptocibule'): 1, ('kryptocibule', 'us'): 1, ('multiple', 'technique'): 1, ('technique', 'charsthe'): 1, ('charsthe', 'leading'): 1, ('leading', 'crypto'): 1, ('crypto', 'spot'): 1, ('spot', 'trading'): 1, ('trading', 'derivative'): 1, ('derivative', 'exchange'): 1, ('exchange', 'platform'): 1, ('platform', 'okex'): 1, ('okex', 'followed'): 1, ('followed', 'recent'): 1, ('recent', 'listing'): 1, ('listing', 'polkadots'): 1, ('polkadots', 'dot'): 1, ('dot', 'token'): 1, ('token', 'another'): 1, ('another', 'listing'): 1, ('listing', 'time'): 1, ('time', 'mantra'): 1, ('mantra', 'dao'): 1, ('dao', 'om'): 1, ('om', 'fir'): 1, ('fir', 'charsa'): 1, ('charsa', 'south'): 1, ('south', 'korean'): 1, ('korean', 'crypto'): 1, ('crypto', 'exchange'): 1, ('exchange', 'raided'): 1, ('raided', 'police'): 1, ('police', 'bitcoins'): 1, ('bitcoins', 'lightning'): 1, ('lightning', 'network'): 1, ('network', 'hit'): 1, ('hit', 'new'): 1, ('new', 'high'): 1, ('high', 'mining'): 1, ('mining', 'revenue'): 1, ('revenue', 'climbingyoure'): 1, ('climbingyoure', 'readingblockchain'): 1, ('readingblockchain', 'bite'): 1, ('bite', 'daily'): 1, ('daily', 'roundup'): 1, ('roundup', 'p'): 1, ('p', 'charsif'): 1, ('charsif', 'youve'): 1, ('youve', 'interacted'): 1, ('interacted', 'cryptocurrencies'): 1, ('cryptocurrencies', 'past'): 1, ('past', 'couple'): 1, ('couple', 'year'): 1, ('year', 'there'): 1, ('there', 'good'): 1, ('good', 'chance'): 1, ('chance', 'youve'): 1, ('youve', 'used'): 1, ('used', 'metamask'): 1, ('metamask', 'cryptocurrency'): 1, ('cryptocurrency', 'wallet'): 1, ('wallet', 'form'): 1, ('form', 'browser'): 1, ('browser', 'extension'): 1, ('extension', 'support'): 1, ('support', 'ether'): 1, ('ether', 'charsthis'): 1, ('charsthis', 'summer'): 1, ('summer', 'didnt'): 1, ('didnt', 'see'): 1, ('see', 'temperature'): 1, ('temperature', 'heat'): 1, ('heat', 'sampp'): 1, ('sampp', 'fire'): 1, ('fire', 'index'): 1, ('index', 'breaking'): 1, ('breaking', 'record'): 1, ('record', 'record'): 1, ('record', 'month'): 1, ('month', 'august'): 1, ('august', 'sitting'): 1, ('sitting', 'pointsas'): 1, ('pointsas', 'charsullicoinbase'): 1, ('charsullicoinbase', 'binance'): 1, ('binance', 'angered'): 1, ('angered', 'user'): 1, ('user', 'platform'): 1, ('platform', 'wentoffline'): 1, ('wentoffline', 'amid'): 1, ('amid', 'major'): 1, ('major', 'selloff'): 1, ('selloff', 'marketlilibitcoin'): 1, ('marketlilibitcoin', 'large'): 1, ('large', 'altcoins'): 1, ('altcoins', 'recovered'): 1, ('recovered', 'loss'): 1, ('loss', 'still'): 1, ('still', 'downon'): 1, ('downon', 'daytoday'): 1, ('daytoday', 'basis'): 1, ('basis', 'charsyoure'): 1, ('charsyoure', 'readingfirst'): 1, ('readingfirst', 'mover'): 1, ('mover', 'coindesks'): 1, ('coindesks', 'daily'): 1, ('daily', 'market'): 1, ('market', 'newsletter'): 1, ('newsletter', 'assembled'): 1, ('assembled', 'coindesk'): 1, ('coindesk', 'market'): 1, ('market', 'team'): 1, ('team', 'edited'): 1, ('edited', 'bradley'): 1, ('bradley', 'keoun'): 1, ('keoun', 'first'): 1, ('first', 'mover'): 1, ('mover', 'start'): 1, ('start', 'day'): 1, ('day', 'uptodate'): 1, ('uptodate', 'sentiment'): 1, ('sentiment', 'aroun'): 1, ('aroun', 'charsfew'): 1, ('charsfew', 'cryptocurrencies'): 1, ('cryptocurrencies', 'explosive'): 1, ('explosive', 'growth'): 1, ('growth', 'ethereum'): 1, ('ethereum', 'topranked'): 1, ('topranked', 'altcoin'): 1, ('altcoin', 'led'): 1, ('led', 'market'): 1, ('market', 'recovery'): 1, ('recovery', 'early'): 1, ('early', 'revisit'): 1, ('revisit', 'accumulation'): 1, ('accumulation', 'range'): 1, ('range', 'defi'): 1, ('defi', 'charsblockchain'): 1, ('charsblockchain', 'gaming'): 1, ('gaming', 'firm'): 1, ('firm', 'animoca'): 1, ('animoca', 'brand'): 1, ('brand', 'launch'): 1, ('launch', 'new'): 1, ('new', 'revv'): 1, ('revv', 'token'): 1, ('token', 'popular'): 1, ('popular', 'decentralized'): 1, ('decentralized', 'exchange'): 1, ('exchange', 'uniswaprevv'): 1, ('uniswaprevv', 'begin'): 1, ('begin', 'trading'): 1, ('trading', 'ethereum'): 1, ('ethereum', 'eth'): 1, ('eth', 'uniswap'): 1, ('uniswap', 'september'): 1, ('september', 'pm'): 1, ('pm', 'ut'): 1, ('ut', 'charsethereum'): 1, ('charsethereum', 'symbol'): 1, ('symbol', 'ethusd'): 1, ('ethusd', 'snapped'): 1, ('snapped', 'fiveday'): 1, ('fiveday', 'winning'): 1, ('winning', 'streak'): 1, ('streak', 'falling'): 1, ('falling', 'sharply'): 1, ('sharply', 'cue'): 1, ('cue', 'broader'): 1, ('broader', 'correction'): 1, ('correction', 'sentiment'): 1, ('sentiment', 'across'): 1, ('across', 'cryptocurrency'): 1, ('cryptocurrency', 'marketthe'): 1, ('marketthe', 'secondlargest'): 1, ('secondlargest', 'crypto'): 1, ('crypto', 'market'): 1, ('market', 'ca'): 1, ('ca', 'charsbloomberg'): 1, ('charsbloomberg', 'ethereum'): 1, ('ethereum', 'blockchain'): 1, ('blockchain', 'exploded'): 1, ('exploded', 'billion'): 1, ('billion', 'market'): 1, ('market', 'promise'): 1, ('promise', 'allowing'): 1, ('allowing', 'greater'): 1, ('greater', 'user'): 1, ('user', 'privacy'): 1, ('privacy', 'control'): 1, ('control', 'world'): 1, ('world', 'wide'): 1, ('wide', 'web'): 1, ('web', 'slower'): 1, ('slower', 'materialize'): 1}\n"
     ]
    }
   ],
   "source": [
    "# Generate the Ethereum N-grams where N=2\n",
    "# YOUR CODE HERE!\n",
    "\n",
    "#Join all texts to form a big string\n",
    "ethereum_big_string = ethereum_df[\"text\"].str.cat()\n",
    "\n",
    "#apply tokenizer function to get words\n",
    "ethereum_words = tokenizer(ethereum_big_string)\n",
    "\n",
    "\n",
    "# Generate the Ethereum N-grams where N=2\n",
    "ethereum_bigram_counts = Counter(ngrams(ethereum_words, n=2))\n",
    "print(dict(ethereum_bigram_counts))"
   ]
  },
  {
   "cell_type": "code",
   "execution_count": 98,
   "metadata": {},
   "outputs": [],
   "source": [
    "# Use the token_count function to generate the top 10 words from each coin\n",
    "def token_count(tokens, N=3):\n",
    "    \"\"\"Returns the top N tokens from the frequency count\"\"\"\n",
    "    return Counter(tokens).most_common(N)"
   ]
  },
  {
   "cell_type": "code",
   "execution_count": 99,
   "metadata": {},
   "outputs": [
    {
     "name": "stdout",
     "output_type": "stream",
     "text": [
      "{'bitcoin': 5, 'website': 4, 'attack': 4, 'mi': 3, 'past': 3, 'use': 3, 'user': 3, 'million': 3, 'company': 3, 'ceo': 3}\n"
     ]
    }
   ],
   "source": [
    "# Get the top 10 words for Bitcoin\n",
    "\n",
    "tokens = bitcoin_words \n",
    "\n",
    "top10_bitcoin_words =token_count(tokens, N=10)\n",
    "print(dict(top10_bitcoin_words))"
   ]
  },
  {
   "cell_type": "code",
   "execution_count": 100,
   "metadata": {},
   "outputs": [
    {
     "name": "stdout",
     "output_type": "stream",
     "text": [
      "{'ethereum': 5, 'market': 5, 'user': 4, 'new': 4, 'token': 3, 'malware': 3, 'august': 3, 'network': 3, 'trading': 3, 'cryptocurrency': 3}\n"
     ]
    }
   ],
   "source": [
    "# Get the top 10 words for Ethereum\n",
    "# YOUR CODE HERE!\n",
    "\n",
    "tokens = ethereum_words \n",
    "\n",
    "top10_ethereum__words =token_count(tokens, N=10)\n",
    "print(dict(top10_ethereum__words))"
   ]
  },
  {
   "cell_type": "markdown",
   "metadata": {},
   "source": [
    "---"
   ]
  },
  {
   "cell_type": "markdown",
   "metadata": {},
   "source": [
    "### Word Clouds\n",
    "\n",
    "In this section, you will generate word clouds for each coin to summarize the news for each coin"
   ]
  },
  {
   "cell_type": "code",
   "execution_count": 21,
   "metadata": {},
   "outputs": [],
   "source": [
    "from wordcloud import WordCloud\n",
    "import matplotlib.pyplot as plt\n",
    "plt.style.use('seaborn-whitegrid')\n",
    "import matplotlib as mpl\n",
    "mpl.rcParams['figure.figsize'] = [20.0, 10.0]"
   ]
  },
  {
   "cell_type": "code",
   "execution_count": 22,
   "metadata": {},
   "outputs": [],
   "source": [
    "# Generate the Bitcoin word cloud\n",
    "# YOUR CODE HERE!"
   ]
  },
  {
   "cell_type": "code",
   "execution_count": 23,
   "metadata": {},
   "outputs": [],
   "source": [
    "# Generate the Ethereum word cloud\n",
    "# YOUR CODE HERE!"
   ]
  },
  {
   "cell_type": "markdown",
   "metadata": {},
   "source": [
    "---\n",
    "## 3. Named Entity Recognition\n",
    "\n",
    "In this section, you will build a named entity recognition model for both Bitcoin and Ethereum, then visualize the tags using SpaCy."
   ]
  },
  {
   "cell_type": "code",
   "execution_count": 24,
   "metadata": {},
   "outputs": [],
   "source": [
    "import spacy\n",
    "from spacy import displacy"
   ]
  },
  {
   "cell_type": "code",
   "execution_count": 25,
   "metadata": {},
   "outputs": [],
   "source": [
    "# Optional - download a language model for SpaCy\n",
    "# !python -m spacy download en_core_web_sm"
   ]
  },
  {
   "cell_type": "code",
   "execution_count": 26,
   "metadata": {},
   "outputs": [],
   "source": [
    "# Load the spaCy model\n",
    "nlp = spacy.load('en_core_web_sm')"
   ]
  },
  {
   "cell_type": "markdown",
   "metadata": {},
   "source": [
    "---\n",
    "### Bitcoin NER"
   ]
  },
  {
   "cell_type": "code",
   "execution_count": 27,
   "metadata": {},
   "outputs": [],
   "source": [
    "# Concatenate all of the Bitcoin text together\n",
    "# YOUR CODE HERE!"
   ]
  },
  {
   "cell_type": "code",
   "execution_count": 28,
   "metadata": {},
   "outputs": [],
   "source": [
    "# Run the NER processor on all of the text\n",
    "# YOUR CODE HERE!\n",
    "\n",
    "# Add a title to the document\n",
    "# YOUR CODE HERE!"
   ]
  },
  {
   "cell_type": "code",
   "execution_count": 29,
   "metadata": {},
   "outputs": [],
   "source": [
    "# Render the visualization\n",
    "# YOUR CODE HERE!"
   ]
  },
  {
   "cell_type": "code",
   "execution_count": 30,
   "metadata": {},
   "outputs": [],
   "source": [
    "# List all Entities\n",
    "# YOUR CODE HERE!"
   ]
  },
  {
   "cell_type": "markdown",
   "metadata": {},
   "source": [
    "---"
   ]
  },
  {
   "cell_type": "markdown",
   "metadata": {},
   "source": [
    "### Ethereum NER"
   ]
  },
  {
   "cell_type": "code",
   "execution_count": 31,
   "metadata": {},
   "outputs": [],
   "source": [
    "# Concatenate all of the Ethereum text together\n",
    "# YOUR CODE HERE!"
   ]
  },
  {
   "cell_type": "code",
   "execution_count": 32,
   "metadata": {},
   "outputs": [],
   "source": [
    "# Run the NER processor on all of the text\n",
    "# YOUR CODE HERE!\n",
    "\n",
    "# Add a title to the document\n",
    "# YOUR CODE HERE!"
   ]
  },
  {
   "cell_type": "code",
   "execution_count": 33,
   "metadata": {},
   "outputs": [],
   "source": [
    "# Render the visualization\n",
    "# YOUR CODE HERE!"
   ]
  },
  {
   "cell_type": "code",
   "execution_count": 34,
   "metadata": {},
   "outputs": [],
   "source": [
    "# List all Entities\n",
    "# YOUR CODE HERE!"
   ]
  },
  {
   "cell_type": "markdown",
   "metadata": {},
   "source": [
    "---"
   ]
  }
 ],
 "metadata": {
  "file_extension": ".py",
  "kernelspec": {
   "display_name": "Python [conda env:dev] *",
   "language": "python",
   "name": "conda-env-dev-py"
  },
  "language_info": {
   "codemirror_mode": {
    "name": "ipython",
    "version": 3
   },
   "file_extension": ".py",
   "mimetype": "text/x-python",
   "name": "python",
   "nbconvert_exporter": "python",
   "pygments_lexer": "ipython3",
   "version": "3.7.7"
  },
  "mimetype": "text/x-python",
  "name": "python",
  "npconvert_exporter": "python",
  "pygments_lexer": "ipython3",
  "version": 3
 },
 "nbformat": 4,
 "nbformat_minor": 4
}
